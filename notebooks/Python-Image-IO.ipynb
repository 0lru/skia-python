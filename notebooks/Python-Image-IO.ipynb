{
 "cells": [
  {
   "cell_type": "markdown",
   "metadata": {},
   "source": [
    "# Python Image I/O\n",
    "\n",
    "`skia-python` supports several conversion between common data types in Python.\n",
    "\n",
    "- [Image files](#Reading-and-writing-to-image-files)\n",
    "- [NumPy array](#Numpy-array)\n",
    "- [PIL Image](#Converting-image-from/to-PIL)"
   ]
  },
  {
   "cell_type": "code",
   "execution_count": 1,
   "metadata": {},
   "outputs": [],
   "source": [
    "import skia\n",
    "import PIL.Image\n",
    "import numpy as np\n",
    "import io\n",
    "import matplotlib.pyplot as plt\n",
    "\n",
    "from IPython import display"
   ]
  },
  {
   "cell_type": "markdown",
   "metadata": {},
   "source": [
    "## Reading and writing to image files"
   ]
  },
  {
   "cell_type": "markdown",
   "metadata": {},
   "source": [
    "`skia.Image` is the primary read-only image data structure in Skia. `skia.Image` can be read from an image file:"
   ]
  },
  {
   "cell_type": "code",
   "execution_count": 2,
   "metadata": {
    "scrolled": true
   },
   "outputs": [
    {
     "data": {
      "image/png": "[encoded data removed]",
      "text/plain": [
       "<IPython.core.display.Image object>"
      ]
     },
     "execution_count": 2,
     "metadata": {},
     "output_type": "execute_result"
    }
   ],
   "source": [
    "with open('../skia/resources/images/rainbow-gradient.png', 'rb') as f:\n",
    "    image = skia.Image.DecodeToRaster(f.read())\n",
    "    \n",
    "display.Image(data=image.encodeToData())"
   ]
  },
  {
   "cell_type": "markdown",
   "metadata": {},
   "source": [
    "Or, can be exported via `skia.Surface.makeImageSnapshot` call:"
   ]
  },
  {
   "cell_type": "code",
   "execution_count": 3,
   "metadata": {},
   "outputs": [],
   "source": [
    "surface = skia.Surface(256, 256)\n",
    "canvas = surface.getCanvas()\n",
    "canvas.drawImage(image, 0, 0)  # Draw something to canvas\n",
    "image = surface.makeImageSnapshot()"
   ]
  },
  {
   "cell_type": "markdown",
   "metadata": {},
   "source": [
    "Write to a specific image format is available via `skia.Image.encodeToData`:"
   ]
  },
  {
   "cell_type": "code",
   "execution_count": 4,
   "metadata": {},
   "outputs": [],
   "source": [
    "import tempfile\n",
    "\n",
    "with tempfile.TemporaryFile(suffix='.png') as f:\n",
    "    f.write(image.encodeToData(skia.kPNG, 100))"
   ]
  },
  {
   "cell_type": "markdown",
   "metadata": {},
   "source": [
    "## NumPy array\n",
    "\n",
    "NumPy arrays can be directly used as a pixel buffer. Mount `numpy.ndarray` as `skia.Canvas`:"
   ]
  },
  {
   "cell_type": "code",
   "execution_count": 5,
   "metadata": {
    "scrolled": true
   },
   "outputs": [
    {
     "data": {
      "image/png": "[encoded data removed]",
      "text/plain": [
       "<Figure size 144x144 with 1 Axes>"
      ]
     },
     "metadata": {
      "needs_background": "light"
     },
     "output_type": "display_data"
    }
   ],
   "source": [
    "buffer = np.zeros((256, 256, 4), dtype=np.uint8)\n",
    "\n",
    "canvas = skia.Canvas(buffer)\n",
    "paint = skia.Paint(AntiAlias=True, Color=skia.ColorCYAN)\n",
    "canvas.drawCircle((128, 128), 64, paint)\n",
    "canvas.flush()\n",
    "\n",
    "plt.figure(figsize=(2, 2))\n",
    "plt.imshow(buffer)\n",
    "plt.show()"
   ]
  },
  {
   "cell_type": "markdown",
   "metadata": {},
   "source": [
    "NumPy arrays can be also used as a backend buffer for `Image`, `Pixmap`, or `Bitmap`."
   ]
  },
  {
   "cell_type": "code",
   "execution_count": 6,
   "metadata": {
    "scrolled": true
   },
   "outputs": [
    {
     "data": {
      "image/png": "[encoded data removed]",
      "text/plain": [
       "<IPython.core.display.Image object>"
      ]
     },
     "execution_count": 6,
     "metadata": {},
     "output_type": "execute_result"
    }
   ],
   "source": [
    "array = np.zeros((64, 64, 4), dtype=np.uint8)\n",
    "array[24:48, 24:48, 3] = 255\n",
    "\n",
    "image = skia.Image(array)\n",
    "\n",
    "pixmap = skia.Pixmap(array)\n",
    "\n",
    "bitmap = skia.Bitmap()\n",
    "bitmap.setInfo(skia.ImageInfo.Make(64, 64, skia.kRGBA_8888_ColorType, skia.kUnpremul_AlphaType))\n",
    "bitmap.setPixels(array)\n",
    "\n",
    "display.Image(data=image.encodeToData())"
   ]
  },
  {
   "cell_type": "markdown",
   "metadata": {},
   "source": [
    "One pitfall is that generic pixel format is usually unpremultiplied alpha (`skia.kUnpremul_AlphaType`), but skia defaults to premultiplied alpha (`skia.kPremul_AlphaType`). Don't forget to specify `alphaType` parameter when needed."
   ]
  },
  {
   "cell_type": "markdown",
   "metadata": {},
   "source": [
    "Note that most APIs in skia does not copy buffer data but only shares a reference. Therefore, buffer lifetime should be carefully taken into account when converting between different format. The following results in crash.\n",
    "\n",
    "```python\n",
    "array = np.zeros((64, 64, 4), dtype=np.uint8)\n",
    "image = skia.Image(array)\n",
    "del array\n",
    "\n",
    "image.encodeToData()  # This will crash\n",
    "```"
   ]
  },
  {
   "cell_type": "markdown",
   "metadata": {},
   "source": [
    "Exporting a numpy array is easy via `numpy` method:"
   ]
  },
  {
   "cell_type": "code",
   "execution_count": 7,
   "metadata": {},
   "outputs": [
    {
     "data": {
      "image/png": "[encoded data removed]",
      "text/plain": [
       "<Figure size 432x288 with 1 Axes>"
      ]
     },
     "metadata": {
      "needs_background": "light"
     },
     "output_type": "display_data"
    }
   ],
   "source": [
    "with open('../skia/resources/images/rainbow-gradient.png', 'rb') as f:\n",
    "    image = skia.Image.DecodeToRaster(f.read())\n",
    "    \n",
    "array = image.numpy()\n",
    "plt.imshow(array)\n",
    "plt.show()"
   ]
  },
  {
   "cell_type": "markdown",
   "metadata": {},
   "source": [
    "Canvas or surface can also export to numpy array. This is convenient when surface backend is not raster."
   ]
  },
  {
   "cell_type": "code",
   "execution_count": 8,
   "metadata": {
    "scrolled": true
   },
   "outputs": [
    {
     "data": {
      "image/png": "[encoded data removed]",
      "text/plain": [
       "<Figure size 216x576 with 2 Axes>"
      ]
     },
     "metadata": {
      "needs_background": "light"
     },
     "output_type": "display_data"
    }
   ],
   "source": [
    "surface = skia.Surface(128, 128)\n",
    "canvas = surface.getCanvas()\n",
    "paint = skia.Paint(AntiAlias=True, Color=skia.ColorCYAN)\n",
    "canvas.drawCircle((64, 64), 32, paint)\n",
    "\n",
    "plt.figure(figsize=(3, 8))\n",
    "plt.subplot(1, 2, 1), plt.imshow(canvas.numpy())\n",
    "plt.subplot(1, 2, 2), plt.imshow(surface.numpy())\n",
    "plt.show()"
   ]
  },
  {
   "cell_type": "markdown",
   "metadata": {},
   "source": [
    "## Converting image from/to PIL\n",
    "\n",
    "It is possible to directly convert `skia.Bitmap` or `skia.Pixmap` to `PIL.Image` using `fromarray`. Note that `PIL.Image` supports limited image modes, and most of the color types in skia are not compatible.\n",
    "\n",
    "For `skia.Image`, first export to `skia.Bitmap` and then convert to `PIL.Image`:"
   ]
  },
  {
   "cell_type": "code",
   "execution_count": 9,
   "metadata": {
    "scrolled": true
   },
   "outputs": [
    {
     "data": {
      "image/png": "[encoded data removed]",
      "text/plain": [
       "<PIL.Image.Image image mode=RGBA size=100x100 at 0x11989D710>"
      ]
     },
     "execution_count": 9,
     "metadata": {},
     "output_type": "execute_result"
    }
   ],
   "source": [
    "with open('../skia/resources/images/rainbow-gradient.png', 'rb') as f:\n",
    "    skia_image = skia.Image.DecodeToRaster(f.read())\n",
    "\n",
    "bitmap = skia_image.bitmap(colorType=skia.kRGBA_8888_ColorType)\n",
    "PIL.Image.fromarray(bitmap)"
   ]
  },
  {
   "cell_type": "markdown",
   "metadata": {},
   "source": [
    "Image is also convertible via encoded image buffer:"
   ]
  },
  {
   "cell_type": "code",
   "execution_count": 10,
   "metadata": {},
   "outputs": [],
   "source": [
    "with io.BytesIO(skia_image.encodeToData()) as f:\n",
    "    pil_image = PIL.Image.open(f)\n",
    "    pil_image.load()  # Ensure to make a copy of buffer"
   ]
  },
  {
   "cell_type": "markdown",
   "metadata": {},
   "source": [
    "Importing a `PIL.Image` is a bit involved. The easiest is to use encoded bytes:"
   ]
  },
  {
   "cell_type": "code",
   "execution_count": 11,
   "metadata": {},
   "outputs": [],
   "source": [
    "with io.BytesIO() as f:\n",
    "    pil_image.save(f, 'png')\n",
    "    skia_image = skia.Image.DecodeToRaster(f.getvalue())  # This ensures the image is immediately decoded."
   ]
  },
  {
   "cell_type": "markdown",
   "metadata": {},
   "source": [
    "Alternatively, the following function demonstrates how to directly copy pixels from `PIL.Image` to `skia.Image`. In the following, the internal pixel buffer of `PIL.Image` is exported by `tobytes`, and directly mounted by `skia.Pixmap` with appropriately configured `skia.ImageInfo`. Then, `skia.Image` is constructed from the `skia.Pixmap`."
   ]
  },
  {
   "cell_type": "code",
   "execution_count": 12,
   "metadata": {},
   "outputs": [],
   "source": [
    "def convert_image_from_pil(pil_image):\n",
    "    COLORTYPES = {\n",
    "        'L': skia.kGray_8_ColorType,\n",
    "        'RGB': skia.kRGB_888x_ColorType,\n",
    "        'RGBA': skia.kRGBA_8888_ColorType,\n",
    "    }\n",
    "    assert pil_image.mode in COLORTYPES, 'Unsupported mode %r' % pil_image.mode\n",
    "    info = skia.ImageInfo.Make(\n",
    "        pil_image.width,\n",
    "        pil_image.height,\n",
    "        COLORTYPES.get(pil_image.mode),\n",
    "        skia.AlphaType.kUnpremul_AlphaType)\n",
    "    pixels = pil_image.tobytes()\n",
    "    assert len(pixels) == info.computeMinByteSize(), 'Pixels do not match the expected size'\n",
    "    pixmap = skia.Pixmap(info, pixels, info.minRowBytes())\n",
    "    return skia.Image.MakeRasterCopy(pixmap)  # Ensure to copy; otherwise buffer might goes out of scope.\n",
    "\n",
    "\n",
    "pil_image = PIL.Image.open('../skia/resources/images/rainbow-gradient.png')\n",
    "skia_image = convert_image_from_pil(pil_image)"
   ]
  }
 ],
 "metadata": {
  "kernelspec": {
   "display_name": "Python 3",
   "language": "python",
   "name": "python3"
  },
  "language_info": {
   "codemirror_mode": {
    "name": "ipython",
    "version": 3
   },
   "file_extension": ".py",
   "mimetype": "text/x-python",
   "name": "python",
   "nbconvert_exporter": "python",
   "pygments_lexer": "ipython3",
   "version": "3.7.6"
  }
 },
 "nbformat": 4,
 "nbformat_minor": 4
}
