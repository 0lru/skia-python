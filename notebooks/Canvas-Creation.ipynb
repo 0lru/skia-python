{
 "cells": [
  {
   "cell_type": "markdown",
   "metadata": {},
   "source": [
    "# Canvas Creation\n",
    "\n",
    "First, read about the [Canvas overview](Canvas-Overview.ipynb).\n",
    "\n",
    "Skia has multiple backends which receive `Canvas` drawing commands, including:\n",
    "\n",
    "- [Raster](#Raster) - CPU-only.\n",
    "- [GPU](#GPU) - Skia's GPU-accelerated backend.\n",
    "- [PDF](#PDF) - PDF document creation.\n",
    "- [Picture](#Picture) - Skia's display list format.\n",
    "- [NullCanvas](#NullCanvas) - Useful for testing only.\n",
    "- XPS - Experimental XPS backend.\n",
    "- [SVG](#SVG) - Experimental SVG backend.\n",
    "\n",
    "Each backend has a unique way of creating a Canvas. This page gives an example for each:"
   ]
  },
  {
   "cell_type": "code",
   "execution_count": 1,
   "metadata": {},
   "outputs": [],
   "source": [
    "import skia\n",
    "import numpy as np\n",
    "import matplotlib.pyplot as plt\n",
    "from IPython.display import display, Image\n",
    "%matplotlib inline\n",
    "\n",
    "width, height = 200, 200\n",
    "\n",
    "def draw(canvas):\n",
    "    canvas.clear(skia.ColorWHITE)\n",
    "    paint = skia.Paint()\n",
    "    paint.setAntiAlias(True)\n",
    "    paint.setColor(skia.ColorGREEN)\n",
    "    canvas.drawCircle(100., 100., 40., paint)"
   ]
  },
  {
   "cell_type": "markdown",
   "metadata": {},
   "source": [
    "## Raster\n",
    "\n",
    "The raster backend draws to a block of memory. This memory can be managed by Skia or by the client.\n",
    "\n",
    "The recommended way of creating a canvas for the Raster and Ganesh backends is to use a `Surface`, which is an object that manages the memory into which the canvas commands are drawn."
   ]
  },
  {
   "cell_type": "code",
   "execution_count": 2,
   "metadata": {},
   "outputs": [
    {
     "data": {
      "image/png": "[encoded data removed]",
      "text/plain": [
       "Image(200, 200, ColorType.kRGBA_8888_ColorType, AlphaType.kPremul_AlphaType)"
      ]
     },
     "metadata": {},
     "output_type": "display_data"
    }
   ],
   "source": [
    "surface = skia.Surface.MakeRasterN32Premul(width, height)\n",
    "canvas = surface.getCanvas()\n",
    "draw(canvas)\n",
    "image = surface.makeImageSnapshot()\n",
    "assert image is not None\n",
    "display(image)"
   ]
  },
  {
   "cell_type": "markdown",
   "metadata": {},
   "source": [
    "Alternatively, we could have specified the memory for the surface explicitly, instead of asking Skia to manage it. The following demonstrates using `numpy.ndarray` as a backing memory for drawing:"
   ]
  },
  {
   "cell_type": "code",
   "execution_count": 3,
   "metadata": {},
   "outputs": [
    {
     "data": {
      "image/png": "[encoded data removed]",
      "text/plain": [
       "<Figure size 432x288 with 1 Axes>"
      ]
     },
     "metadata": {
      "needs_background": "light"
     },
     "output_type": "display_data"
    }
   ],
   "source": [
    "array = np.zeros((height, width, 4), dtype=np.uint8)\n",
    "\n",
    "with skia.Surface(array) as canvas:\n",
    "    draw(canvas)\n",
    "\n",
    "plt.imshow(array)\n",
    "plt.show() "
   ]
  },
  {
   "cell_type": "markdown",
   "metadata": {},
   "source": [
    "## GPU\n",
    "\n",
    "GPU Surfaces must have a `GrContext` object which manages the GPU context, and related caches for textures and fonts. GrContexts are matched one to one with OpenGL contexts or Vulkan devices. That is, all `Surface` that will be rendered to using the same OpenGL context or Vulkan device should share a `GrContext`. Skia does not create a OpenGL context or Vulkan device for you. In OpenGL mode it also assumes that the correct OpenGL context has been made current to the current thread when Skia calls are made."
   ]
  },
  {
   "cell_type": "markdown",
   "metadata": {},
   "source": [
    "The following example uses `glfw` package to create an OpenGL context. Install `glfw` via pip to try."
   ]
  },
  {
   "cell_type": "code",
   "execution_count": 4,
   "metadata": {},
   "outputs": [
    {
     "data": {
      "image/png": "[encoded data removed]",
      "text/plain": [
       "Image(200, 200, ColorType.kRGBA_8888_ColorType, AlphaType.kPremul_AlphaType)"
      ]
     },
     "metadata": {},
     "output_type": "display_data"
    }
   ],
   "source": [
    "import glfw\n",
    "import contextlib\n",
    "\n",
    "\n",
    "@contextlib.contextmanager\n",
    "def glfw_context():\n",
    "    if not glfw.init():\n",
    "        raise RuntimeError('glfw.init() failed')\n",
    "    glfw.window_hint(glfw.VISIBLE, glfw.FALSE)\n",
    "    glfw.window_hint(glfw.STENCIL_BITS, 8)\n",
    "    window = glfw.create_window(640, 480, '', None, None)\n",
    "    glfw.make_context_current(window)\n",
    "    yield window\n",
    "    glfw.terminate()\n",
    "\n",
    "\n",
    "with glfw_context():\n",
    "    context = skia.GrContext.MakeGL()\n",
    "    info = skia.ImageInfo.MakeN32Premul(width, height)\n",
    "    surface = skia.Surface.MakeRenderTarget(context, skia.Budgeted.kNo, info)\n",
    "    assert surface is not None\n",
    "    canvas = surface.getCanvas()\n",
    "    draw(canvas)\n",
    "    image = surface.makeImageSnapshot()\n",
    "    display(image)"
   ]
  },
  {
   "cell_type": "markdown",
   "metadata": {},
   "source": [
    "## PDF\n",
    "\n",
    "The `PDF` backend uses `Document` instead of `Surface`, since a document must include multiple pages."
   ]
  },
  {
   "cell_type": "code",
   "execution_count": 5,
   "metadata": {},
   "outputs": [],
   "source": [
    "path = 'output.pdf'\n",
    "\n",
    "stream = skia.FILEWStream(path)\n",
    "with skia.PDF.MakeDocument(stream) as document:\n",
    "    with document.page(width, height) as canvas:\n",
    "        draw(canvas)"
   ]
  },
  {
   "cell_type": "markdown",
   "metadata": {},
   "source": [
    "## Picture\n",
    "\n",
    "The `Picture` backend uses `PictureRecorder` instead of `Surface`."
   ]
  },
  {
   "cell_type": "code",
   "execution_count": 6,
   "metadata": {},
   "outputs": [],
   "source": [
    "recorder = skia.PictureRecorder()\n",
    "canvas = recorder.beginRecording(width, height)\n",
    "draw(canvas)\n",
    "picture = recorder.finishRecordingAsPicture()\n",
    "data = picture.serialize()"
   ]
  },
  {
   "cell_type": "markdown",
   "metadata": {},
   "source": [
    "## NullCanvas\n",
    "\n",
    "The null canvas is a canvas that ignores all drawing commands and does nothing."
   ]
  },
  {
   "cell_type": "code",
   "execution_count": 7,
   "metadata": {},
   "outputs": [],
   "source": [
    "canvas = skia.MakeNullCanvas()\n",
    "draw(canvas)  # No op"
   ]
  },
  {
   "cell_type": "markdown",
   "metadata": {},
   "source": [
    "## SVG\n",
    "\n",
    "The (still experimental) SVG canvas writes into an SVG document."
   ]
  },
  {
   "cell_type": "code",
   "execution_count": 8,
   "metadata": {},
   "outputs": [],
   "source": [
    "path = 'output.svg'\n",
    "\n",
    "stream = skia.FILEWStream(path)\n",
    "canvas = skia.SVGCanvas.Make((width, height), stream)\n",
    "draw(canvas)\n",
    "del canvas  # Make sure to destroy before stream\n",
    "stream.flush()"
   ]
  }
 ],
 "metadata": {
  "kernelspec": {
   "display_name": "Python 3",
   "language": "python",
   "name": "python3"
  },
  "language_info": {
   "codemirror_mode": {
    "name": "ipython",
    "version": 3
   },
   "file_extension": ".py",
   "mimetype": "text/x-python",
   "name": "python",
   "nbconvert_exporter": "python",
   "pygments_lexer": "ipython3",
   "version": "3.7.6"
  }
 },
 "nbformat": 4,
 "nbformat_minor": 4
}
