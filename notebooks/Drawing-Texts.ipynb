{
 "cells": [
  {
   "cell_type": "markdown",
   "metadata": {},
   "source": [
    "# Drawing Texts\n",
    "\n",
    "This notebook demonstrates basic text rendering APIs."
   ]
  },
  {
   "cell_type": "code",
   "execution_count": 1,
   "metadata": {},
   "outputs": [],
   "source": [
    "import skia\n",
    "import contextlib\n",
    "from IPython.display import display, Image\n",
    "\n",
    "@contextlib.contextmanager\n",
    "def draw_target(width=256, height=128):\n",
    "    surface = skia.Surface(width, height)\n",
    "    canvas = surface.getCanvas()\n",
    "    yield canvas\n",
    "    image = surface.makeImageSnapshot()\n",
    "    display(Image(data=image.encodeToData()))"
   ]
  },
  {
   "cell_type": "markdown",
   "metadata": {},
   "source": [
    "In Skia, texts can be drawn onto a canvas via `drawString()` or `drawTextBlob()`. `TextBlob` combines multiple text runs into an immutable container, and allows finer control of glyphs, paint, and positions for each run. The following example shows `drawString()` and `drawTextBlob()` with position specifications."
   ]
  },
  {
   "cell_type": "code",
   "execution_count": 2,
   "metadata": {},
   "outputs": [
    {
     "data": {
      "image/png": "[encoded data removed]",
      "text/plain": [
       "<IPython.core.display.Image object>"
      ]
     },
     "metadata": {},
     "output_type": "display_data"
    }
   ],
   "source": [
    "with draw_target(128, 128) as canvas:\n",
    "    paint = skia.Paint(AntiAlias=True, Color=skia.ColorRED)\n",
    "    canvas.drawString('String', 10, 32, skia.Font(None, 36), paint)\n",
    "    \n",
    "    paint.setColor(skia.ColorGREEN)\n",
    "    blob = skia.TextBlob('Blob', skia.Font(None, 36))\n",
    "    canvas.drawTextBlob(blob, 10, 64, paint)\n",
    "    \n",
    "    paint.setColor(skia.ColorBLUE)\n",
    "    blob = skia.TextBlob('Blob', skia.Font(None, 36), [(0, 0), (32, 5), (64, -5), (96, 2)])\n",
    "    canvas.drawTextBlob(blob, 10, 96, paint)"
   ]
  },
  {
   "cell_type": "markdown",
   "metadata": {},
   "source": [
    "## TextBlob\n",
    "\n",
    "`TextBlob` can be constructed with optional positions or geometric transforms. `RSXform` is a compressed form of rotation+scale matrix."
   ]
  },
  {
   "cell_type": "code",
   "execution_count": 3,
   "metadata": {},
   "outputs": [
    {
     "data": {
      "image/png": "[encoded data removed]",
      "text/plain": [
       "<IPython.core.display.Image object>"
      ]
     },
     "metadata": {},
     "output_type": "display_data"
    }
   ],
   "source": [
    "with draw_target(128, 128) as canvas:\n",
    "    paint = skia.Paint(AntiAlias=True)\n",
    "    \n",
    "    blob = skia.TextBlob('Skia', skia.Font(None, 36), [(0, 0), (32, 5), (64, -5), (96, 2)])\n",
    "    canvas.drawTextBlob(blob, 10, 48, paint)\n",
    "    \n",
    "    xform = [\n",
    "        skia.RSXform(1, 0, 0, 0),\n",
    "        skia.RSXform(1.2, 0, 28, 0),\n",
    "        skia.RSXform(0.8, -0.1, 48, 0),\n",
    "        skia.RSXform(1, 0.2, 64, 0),\n",
    "    ]\n",
    "    blob = skia.TextBlob.MakeFromRSXform('Skia', xform, skia.Font(None, 36))\n",
    "    canvas.drawTextBlob(blob, 10, 96, paint)"
   ]
  },
  {
   "cell_type": "markdown",
   "metadata": {},
   "source": [
    "To build a `TextBlob` with multiple runs, use `TextBlobBuilder`. On drawing, all runs share the same `Paint`."
   ]
  },
  {
   "cell_type": "code",
   "execution_count": 4,
   "metadata": {},
   "outputs": [
    {
     "data": {
      "image/png": "[encoded data removed]",
      "text/plain": [
       "<IPython.core.display.Image object>"
      ]
     },
     "metadata": {},
     "output_type": "display_data"
    }
   ],
   "source": [
    "with draw_target(128, 64) as canvas:\n",
    "    builder = skia.TextBlobBuilder()\n",
    "    builder.allocRun('First Text', skia.Font(skia.Typeface('Arial'), 24), 0, 0)\n",
    "    builder.allocRun('Second text', skia.Font(skia.Typeface('Arial'), 18), 10, 30)\n",
    "    blob = builder.make()\n",
    "    canvas.drawTextBlob(blob, 10, 32, skia.Paint(AntiAlias=True))"
   ]
  },
  {
   "cell_type": "markdown",
   "metadata": {},
   "source": [
    "Runs in the blob do not contain text itself, but only glyph indices:"
   ]
  },
  {
   "cell_type": "code",
   "execution_count": 5,
   "metadata": {},
   "outputs": [
    {
     "data": {
      "text/plain": [
       "[Run([41, 76, 85, 86, 87, 3, 55, 72, 91, 87]),\n",
       " Run([54, 72, 70, 82, 81, 71, 3, 87, 72, 91, 87])]"
      ]
     },
     "execution_count": 5,
     "metadata": {},
     "output_type": "execute_result"
    }
   ],
   "source": [
    "list(blob)"
   ]
  },
  {
   "cell_type": "markdown",
   "metadata": {},
   "source": [
    "Multiple runs with geometric parameters requires explicit conversion of text to glyphs."
   ]
  },
  {
   "cell_type": "code",
   "execution_count": 6,
   "metadata": {},
   "outputs": [
    {
     "data": {
      "image/png": "[encoded data removed]",
      "text/plain": [
       "<IPython.core.display.Image object>"
      ]
     },
     "metadata": {},
     "output_type": "display_data"
    }
   ],
   "source": [
    "import random\n",
    "\n",
    "with draw_target(128, 64) as canvas:\n",
    "    builder = skia.TextBlobBuilder()\n",
    "    \n",
    "    font = skia.Font(skia.Typeface('Arial'), 24)\n",
    "    glyphs = font.textToGlyphs('First Text')\n",
    "    xpositions = font.getXPos(glyphs)\n",
    "    xpositions = [x + 5 * random.random() for x in xpositions]\n",
    "    builder.allocRunPosH(font, glyphs, xpositions, 0)\n",
    "    \n",
    "    line_height = font.getSpacing()\n",
    "    \n",
    "    font = skia.Font(skia.Typeface('Arial'), 18)\n",
    "    glyphs = font.textToGlyphs('Second Text')\n",
    "    positions = font.getPos(glyphs, origin=(0, line_height))\n",
    "    positions = [\n",
    "        skia.Point(\n",
    "            p.x() + 3 * random.random(),\n",
    "            p.y() + 5 * random.random())\n",
    "        for i, p in enumerate(positions)]\n",
    "    builder.allocRunPos(font, glyphs, positions)\n",
    "    \n",
    "    blob = builder.make()\n",
    "    paint = skia.Paint(AntiAlias=True)\n",
    "    canvas.drawTextBlob(blob, 10, 24, paint)"
   ]
  },
  {
   "cell_type": "markdown",
   "metadata": {},
   "source": [
    "## Font and Typeface"
   ]
  },
  {
   "cell_type": "markdown",
   "metadata": {},
   "source": [
    "`Typeface` specifies the typeface and intrinsic style of a font. `Font` contains `Typeface` and control options applied when drawing and measuring text, such as size information."
   ]
  },
  {
   "cell_type": "code",
   "execution_count": 7,
   "metadata": {},
   "outputs": [
    {
     "name": "stdout",
     "output_type": "stream",
     "text": [
      "Typeface('Arial', FontStyle(700, 5, Slant.kUpright_Slant))\n",
      "Typeface('Arial', FontStyle(400, 5, Slant.kItalic_Slant))\n",
      "Font(Typeface('Times New Roman', FontStyle(400, 5, Slant.kUpright_Slant)), 24.0, 1.0, 0.0)\n"
     ]
    }
   ],
   "source": [
    "bold_typeface = skia.Typeface('Arial', skia.FontStyle.Bold())\n",
    "italic_typeface = skia.Typeface('Arial', skia.FontStyle.Italic())\n",
    "print(bold_typeface)\n",
    "print(italic_typeface)\n",
    "\n",
    "font = skia.Font(skia.Typeface('Times New Roman'), 24)\n",
    "print(font)"
   ]
  },
  {
   "cell_type": "markdown",
   "metadata": {},
   "source": [
    "Use `Font` to measure various geometry of drawn texts. `measureText` calculates the advance of the text:"
   ]
  },
  {
   "cell_type": "code",
   "execution_count": 8,
   "metadata": {},
   "outputs": [
    {
     "data": {
      "text/plain": [
       "35.98828125"
      ]
     },
     "execution_count": 8,
     "metadata": {},
     "output_type": "execute_result"
    }
   ],
   "source": [
    "font.measureText('text')"
   ]
  },
  {
   "cell_type": "markdown",
   "metadata": {},
   "source": [
    "Recommended line height is given by `getSpacing`:"
   ]
  },
  {
   "cell_type": "code",
   "execution_count": 9,
   "metadata": {},
   "outputs": [
    {
     "data": {
      "text/plain": [
       "27.59765625"
      ]
     },
     "execution_count": 9,
     "metadata": {},
     "output_type": "execute_result"
    }
   ],
   "source": [
    "font.getSpacing()"
   ]
  },
  {
   "cell_type": "markdown",
   "metadata": {},
   "source": [
    "For detailed metrics of geometric measurement, obtain `FontMetrics` object."
   ]
  },
  {
   "cell_type": "code",
   "execution_count": 10,
   "metadata": {
    "scrolled": true
   },
   "outputs": [
    {
     "data": {
      "text/plain": [
       "FontMetrics(Flags=3, Top=-24.1641, Ascent=-21.3867, Descent=5.19141, Bottom=7.35938, Leading=1.01953, AvgCharWidth=61.6406, MaxCharWidth=61.6406, XMin=-13.6406, XMax=48, XHeight=10.7344, CapHeight=15.8906, UnderlineThickness=1.17188, UnderlinePosition=2.61328, StrikeoutThickness=-5.38825e-33, StrikeoutPosition=4.59163e-41)"
      ]
     },
     "execution_count": 10,
     "metadata": {},
     "output_type": "execute_result"
    }
   ],
   "source": [
    "font.getMetrics()"
   ]
  },
  {
   "cell_type": "markdown",
   "metadata": {},
   "source": [
    "On drawing, texts are represented by `glyphs`. `Typeface` maintains character to glyph mapping. Unicode texts are mapped one-by-one to glyph indices."
   ]
  },
  {
   "cell_type": "code",
   "execution_count": 11,
   "metadata": {},
   "outputs": [
    {
     "data": {
      "text/plain": [
       "[87, 72, 91, 87]"
      ]
     },
     "execution_count": 11,
     "metadata": {},
     "output_type": "execute_result"
    }
   ],
   "source": [
    "glyphs = font.textToGlyphs('text')\n",
    "glyphs"
   ]
  },
  {
   "cell_type": "markdown",
   "metadata": {},
   "source": [
    "`glyph` positions and bounding boxes are given by `getPos` and `getBounds`:"
   ]
  },
  {
   "cell_type": "code",
   "execution_count": 12,
   "metadata": {},
   "outputs": [
    {
     "name": "stdout",
     "output_type": "stream",
     "text": [
      "[Point(10, 10), Point(16.668, 10), Point(27.3203, 10), Point(39.3203, 10)]\n",
      "[Rect(-1, -16, 8, 2), Rect(-1, -13, 11, 2), Rect(-1, -12, 13, 1), Rect(-1, -16, 8, 2)]\n"
     ]
    }
   ],
   "source": [
    "print(font.getPos(glyphs, origin=(10, 10)))\n",
    "print(font.getBounds(glyphs))"
   ]
  },
  {
   "cell_type": "markdown",
   "metadata": {},
   "source": [
    "Glyphs can be converted to `Path` objects."
   ]
  },
  {
   "cell_type": "code",
   "execution_count": 15,
   "metadata": {},
   "outputs": [
    {
     "data": {
      "text/plain": [
       "[<skia.Path at 0x108cb6c70>,\n",
       " <skia.Path at 0x108cb6cb0>,\n",
       " <skia.Path at 0x108cb6cf0>,\n",
       " <skia.Path at 0x108cb6d30>]"
      ]
     },
     "execution_count": 15,
     "metadata": {},
     "output_type": "execute_result"
    }
   ],
   "source": [
    "font.getPaths(glyphs)"
   ]
  },
  {
   "cell_type": "markdown",
   "metadata": {},
   "source": [
    "## FontMgr\n",
    "\n",
    "List of available font families can be retrieved by `FontMgr`."
   ]
  },
  {
   "cell_type": "code",
   "execution_count": 25,
   "metadata": {
    "scrolled": true
   },
   "outputs": [
    {
     "data": {
      "text/plain": [
       "['Abadi MT Condensed Extra Bold',\n",
       " 'Abadi MT Condensed Light',\n",
       " 'Al Bayan',\n",
       " 'Al Nile',\n",
       " 'Al Tarikh',\n",
       " 'American Typewriter',\n",
       " 'Andale Mono',\n",
       " 'Arial',\n",
       " 'Arial Black',\n",
       " 'Arial Hebrew']"
      ]
     },
     "execution_count": 25,
     "metadata": {},
     "output_type": "execute_result"
    }
   ],
   "source": [
    "fontmgr = skia.FontMgr()\n",
    "list(fontmgr)[:10]"
   ]
  },
  {
   "cell_type": "markdown",
   "metadata": {},
   "source": [
    "Each font has specific style presets. For example, `Helvetica` font has 6 styles."
   ]
  },
  {
   "cell_type": "code",
   "execution_count": 26,
   "metadata": {},
   "outputs": [
    {
     "data": {
      "text/plain": [
       "[(FontStyle(400, 5, Slant.kUpright_Slant), 'Regular'),\n",
       " (FontStyle(400, 5, Slant.kItalic_Slant), 'Oblique'),\n",
       " (FontStyle(300, 5, Slant.kUpright_Slant), 'Light'),\n",
       " (FontStyle(300, 5, Slant.kItalic_Slant), 'Light Oblique'),\n",
       " (FontStyle(700, 5, Slant.kUpright_Slant), 'Bold'),\n",
       " (FontStyle(700, 5, Slant.kItalic_Slant), 'Bold Oblique')]"
      ]
     },
     "execution_count": 26,
     "metadata": {},
     "output_type": "execute_result"
    }
   ],
   "source": [
    "styles = fontmgr.matchFamily('Helvetica')\n",
    "list(styles)"
   ]
  },
  {
   "cell_type": "markdown",
   "metadata": {},
   "source": [
    "Once a font family and a style is determined, `Typeface` object can be created:"
   ]
  },
  {
   "cell_type": "code",
   "execution_count": 18,
   "metadata": {},
   "outputs": [
    {
     "data": {
      "text/plain": [
       "Typeface('Helvetica', FontStyle(700, 5, Slant.kUpright_Slant))"
      ]
     },
     "execution_count": 18,
     "metadata": {},
     "output_type": "execute_result"
    }
   ],
   "source": [
    "styles.createTypeface(4)"
   ]
  },
  {
   "cell_type": "markdown",
   "metadata": {},
   "source": [
    "Alternatively, `FontMgr` can look for closest face."
   ]
  },
  {
   "cell_type": "code",
   "execution_count": 19,
   "metadata": {},
   "outputs": [
    {
     "data": {
      "text/plain": [
       "Typeface('Arial', FontStyle(400, 5, Slant.kUpright_Slant))"
      ]
     },
     "execution_count": 19,
     "metadata": {},
     "output_type": "execute_result"
    }
   ],
   "source": [
    "typeface = fontmgr.matchFamilyStyle('Arial', skia.FontStyle.Normal())\n",
    "typeface"
   ]
  },
  {
   "cell_type": "code",
   "execution_count": null,
   "metadata": {},
   "outputs": [],
   "source": []
  }
 ],
 "metadata": {
  "kernelspec": {
   "display_name": "Python 3",
   "language": "python",
   "name": "python3"
  },
  "language_info": {
   "codemirror_mode": {
    "name": "ipython",
    "version": 3
   },
   "file_extension": ".py",
   "mimetype": "text/x-python",
   "name": "python",
   "nbconvert_exporter": "python",
   "pygments_lexer": "ipython3",
   "version": "3.7.6"
  }
 },
 "nbformat": 4,
 "nbformat_minor": 4
}
