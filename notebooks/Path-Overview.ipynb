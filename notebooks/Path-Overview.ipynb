{
 "cells": [
  {
   "cell_type": "markdown",
   "metadata": {},
   "source": [
    "# Path Overview\n",
    "`Path` contains `Lines` and `Curves` which can be stroked or filled. `Contour` is composed of a series of connected `Lines` and `Curves`. `Path` may contain zero, one, or more `Contours`. Each `Line` and `Curve` are described by `Verb`, `Points`, and optional `Path_Conic_Weight`.\n",
    "\n",
    "Each pair of connected `Lines` and `Curves` share common `Point`; for instance, `Path` containing two connected `Lines` are described the `Path_Verb` sequence: `Path.kMove`, `Path.kLine`, `Path.kLine`; and a `Point` sequence with three entries, sharing the middle entry as the end of the first Line and the start of the second Line.\n",
    "\n",
    "`Path` components `Arc`, `Rect`, `Round_Rect`, `Circle`, and `Oval` are composed of `Lines` and `Curves` with as many `Verbs` and `Points` required for an exact description. Once added to `Path`, these components may lose their identity; although `Path` can be inspected to determine if it describes a single `Rect`, `Oval`, `Round_Rect`, and so on.\n",
    "\n",
    "### Example"
   ]
  },
  {
   "cell_type": "code",
   "execution_count": 1,
   "metadata": {},
   "outputs": [],
   "source": [
    "import skia\n",
    "from IPython.display import display, Image\n",
    "\n",
    "def show(draw):\n",
    "    surface = skia.Surface(256, 192)\n",
    "    draw(surface.getCanvas())\n",
    "    image = surface.makeImageSnapshot()\n",
    "    display(Image(data=image.encodeToData()))"
   ]
  },
  {
   "cell_type": "code",
   "execution_count": 2,
   "metadata": {},
   "outputs": [],
   "source": [
    "def draw(canvas: skia.Canvas):\n",
    "    paint = skia.Paint()\n",
    "    paint.setAntiAlias(True)\n",
    "    path = skia.Path()\n",
    "    path.moveTo(124, 108)\n",
    "    path.lineTo(172, 24)\n",
    "    path.addCircle(50, 50, 30)\n",
    "    path.moveTo(36, 148)\n",
    "    path.quadTo(66, 188, 120, 136)\n",
    "    canvas.drawPath(path, paint)\n",
    "    paint.setStyle(skia.Paint.kStroke_Style);\n",
    "    paint.setColor(skia.ColorBLUE)\n",
    "    paint.setStrokeWidth(3)\n",
    "    canvas.drawPath(path, paint)"
   ]
  },
  {
   "cell_type": "markdown",
   "metadata": {},
   "source": [
    "`Path` contains three Contours: `Line`, `Circle`, and `Quad`. `Line` is stroked but not filled. `Circle` is stroked and filled; `Circle` stroke forms a loop. `Quad` is stroked and filled, but since it is not closed, `Quad` does not stroke a loop."
   ]
  },
  {
   "cell_type": "code",
   "execution_count": 3,
   "metadata": {},
   "outputs": [
    {
     "data": {
      "image/png": "[encoded data removed]",
      "text/plain": [
       "<IPython.core.display.Image object>"
      ]
     },
     "metadata": {},
     "output_type": "display_data"
    }
   ],
   "source": [
    "show(draw)"
   ]
  },
  {
   "cell_type": "markdown",
   "metadata": {},
   "source": [
    "`Path` contains a `Path_Fill_Type` which determines whether overlapping `Contours` form fills or holes. `Path_Fill_Type` also determines whether area inside or outside `Lines` and `Curves` is filled."
   ]
  },
  {
   "cell_type": "code",
   "execution_count": 4,
   "metadata": {},
   "outputs": [],
   "source": [
    "def draw(canvas: skia.Canvas):\n",
    "    paint = skia.Paint()\n",
    "    paint.setAntiAlias(True)\n",
    "    path = skia.Path()\n",
    "    path.moveTo(36, 48)\n",
    "    path.quadTo(66, 88, 120, 36)\n",
    "    canvas.drawPath(path, paint)\n",
    "    paint.setStyle(skia.Paint.kStroke_Style)\n",
    "    paint.setColor(skia.ColorBLUE)\n",
    "    paint.setStrokeWidth(8)\n",
    "    canvas.translate(0, 50)\n",
    "    canvas.drawPath(path, paint)\n",
    "    paint.setStyle(skia.Paint.kStrokeAndFill_Style)\n",
    "    paint.setColor(skia.ColorRED)\n",
    "    canvas.translate(0, 50)\n",
    "    canvas.drawPath(path, paint)"
   ]
  },
  {
   "cell_type": "markdown",
   "metadata": {},
   "source": [
    "`Path` is drawn filled, then stroked, then stroked and filled."
   ]
  },
  {
   "cell_type": "code",
   "execution_count": 5,
   "metadata": {},
   "outputs": [
    {
     "data": {
      "image/png": "[encoded data removed]",
      "text/plain": [
       "<IPython.core.display.Image object>"
      ]
     },
     "metadata": {},
     "output_type": "display_data"
    }
   ],
   "source": [
    "show(draw)"
   ]
  },
  {
   "cell_type": "markdown",
   "metadata": {},
   "source": [
    "`Path` contents are never shared. Copying `Path` by value effectively creates a new `Path` independent of the original. Internally, the copy does not duplicate its contents until it is edited, to reduce memory use and improve performance."
   ]
  },
  {
   "cell_type": "markdown",
   "metadata": {},
   "source": [
    "---\n",
    "\n",
    "`Contour` contains one or more `Verbs`, and as many `Points` as are required to satisfy `Path_Verb_Array`. First `Path_Verb` in `Path` is always `PathVerb.kMove` each `PathVerb.kMove` that follows starts a new `Contour`.\n",
    "\n",
    "### Example"
   ]
  },
  {
   "cell_type": "code",
   "execution_count": 6,
   "metadata": {},
   "outputs": [],
   "source": [
    "def draw(canvas: skia.Canvas):\n",
    "    font = skia.Font()\n",
    "    paint = skia.Paint()\n",
    "    paint.setAntiAlias(True)\n",
    "    canvas.drawString(\"1st contour\", 150, 100, font, paint)\n",
    "    canvas.drawString(\"2nd contour\", 130, 160, font, paint)\n",
    "    canvas.drawString(\"3rd contour\", 40, 30, font, paint)\n",
    "    paint.setStyle(skia.Paint.kStroke_Style)\n",
    "    path = skia.Path()\n",
    "    path.moveTo(124, 108)\n",
    "    path.lineTo(172, 24)\n",
    "    path.moveTo(36, 148)\n",
    "    path.quadTo(66, 188, 120, 136)\n",
    "    path.close()\n",
    "    path.conicTo(70, 20, 110, 40, 0.6)\n",
    "    canvas.drawPath(path, paint)"
   ]
  },
  {
   "cell_type": "markdown",
   "metadata": {},
   "source": [
    "Each `Path.moveTo` starts a new `Contour`, and content after `Path.close()` also starts a new `Contour`. Since `Path.conicTo` is not preceded by `Path.moveTo`, the first `Point` of the third `Contour` starts at the last `Point` of the second `Contour`."
   ]
  },
  {
   "cell_type": "code",
   "execution_count": 7,
   "metadata": {},
   "outputs": [
    {
     "data": {
      "image/png": "[encoded data removed]",
      "text/plain": [
       "<IPython.core.display.Image object>"
      ]
     },
     "metadata": {},
     "output_type": "display_data"
    }
   ],
   "source": [
    "show(draw)"
   ]
  },
  {
   "cell_type": "markdown",
   "metadata": {},
   "source": [
    "If final `PathVerb` in `Contour` is `PathVerb.kClose`, `Line` connects `Path_Last_Point` in `Contour` with first `Point`. A closed `Contour`, stroked, draws `Paint_Stroke_Join` at `Path_Last_Point` and first `Point`. Without `PathVerb.kClose` as final `Verb`, `Path_Last_Point` and first `Point` are not connected; `Contour` remains open. An open `Contour`, stroked, draws `Paint_Stroke_Cap` at `Path_Last_Point` and first `Point`.\n",
    "\n",
    "### Example"
   ]
  },
  {
   "cell_type": "code",
   "execution_count": 8,
   "metadata": {},
   "outputs": [],
   "source": [
    "def draw(canvas: skia.Canvas):\n",
    "    paint = skia.Paint()\n",
    "    paint.setAntiAlias(True)\n",
    "    paint.setStyle(skia.Paint.kStroke_Style)\n",
    "    paint.setStrokeWidth(8)\n",
    "    path = skia.Path()\n",
    "    path.moveTo(36, 48)\n",
    "    path.quadTo(66, 88, 120, 36)\n",
    "    canvas.drawPath(path, paint)\n",
    "    path.close()\n",
    "    canvas.translate(0, 50)\n",
    "    canvas.drawPath(path, paint)"
   ]
  },
  {
   "cell_type": "markdown",
   "metadata": {},
   "source": [
    "`Path` is drawn stroked, with an open `Contour` and a closed `Contour`."
   ]
  },
  {
   "cell_type": "code",
   "execution_count": 9,
   "metadata": {},
   "outputs": [
    {
     "data": {
      "image/png": "[encoded data removed]",
      "text/plain": [
       "<IPython.core.display.Image object>"
      ]
     },
     "metadata": {},
     "output_type": "display_data"
    }
   ],
   "source": [
    "show(draw)"
   ]
  },
  {
   "cell_type": "markdown",
   "metadata": {},
   "source": [
    "---\n",
    "\n",
    "`Contour` length is distance traveled from first `Point` to `Path_Last_Point`, plus, if `Contour` is closed, distance from `Path_Last_Point` to first `Point`. Even if `Contour` length is zero, stroked `Lines` are drawn if `Paint_Stroke_Cap` makes them visible.\n",
    "\n",
    "### Example"
   ]
  },
  {
   "cell_type": "code",
   "execution_count": 10,
   "metadata": {},
   "outputs": [
    {
     "data": {
      "image/png": "[encoded data removed]",
      "text/plain": [
       "<IPython.core.display.Image object>"
      ]
     },
     "metadata": {},
     "output_type": "display_data"
    }
   ],
   "source": [
    "def draw(canvas: skia.Canvas):\n",
    "    paint = skia.Paint()\n",
    "    paint.setAntiAlias(True)\n",
    "    paint.setStyle(skia.Paint.kStroke_Style)\n",
    "    paint.setStrokeWidth(8)\n",
    "    paint.setStrokeCap(skia.Paint.kRound_Cap)\n",
    "    path = skia.Path()\n",
    "    path.moveTo(36, 48)\n",
    "    path.lineTo(36, 48)\n",
    "    canvas.drawPath(path, paint)\n",
    "    path.reset()\n",
    "    paint.setStrokeCap(skia.Paint.kSquare_Cap)\n",
    "    path.moveTo(56, 48)\n",
    "    path.close()\n",
    "    canvas.drawPath(path, paint)\n",
    "    \n",
    "show(draw)"
   ]
  },
  {
   "cell_type": "code",
   "execution_count": null,
   "metadata": {},
   "outputs": [],
   "source": []
  }
 ],
 "metadata": {
  "kernelspec": {
   "display_name": "Python 3",
   "language": "python",
   "name": "python3"
  },
  "language_info": {
   "codemirror_mode": {
    "name": "ipython",
    "version": 3
   },
   "file_extension": ".py",
   "mimetype": "text/x-python",
   "name": "python",
   "nbconvert_exporter": "python",
   "pygments_lexer": "ipython3",
   "version": "3.7.6"
  }
 },
 "nbformat": 4,
 "nbformat_minor": 4
}
