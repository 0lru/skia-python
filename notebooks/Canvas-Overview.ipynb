{
 "cells": [
  {
   "cell_type": "markdown",
   "metadata": {},
   "source": [
    "# Canvas Overview\n",
    "\n",
    "The drawing context"
   ]
  },
  {
   "cell_type": "code",
   "execution_count": 1,
   "metadata": {},
   "outputs": [],
   "source": [
    "import skia\n",
    "from IPython.display import display, Image"
   ]
  },
  {
   "cell_type": "markdown",
   "metadata": {},
   "source": [
    "The following is a helper util that takes drawing function and renders the result."
   ]
  },
  {
   "cell_type": "code",
   "execution_count": 2,
   "metadata": {},
   "outputs": [],
   "source": [
    "def show(draw):\n",
    "    surface = skia.Surface(256, 256)\n",
    "    draw(surface.getCanvas())\n",
    "    image = surface.makeImageSnapshot()\n",
    "    display(Image(data=image.encodeToData()))"
   ]
  },
  {
   "cell_type": "markdown",
   "metadata": {},
   "source": [
    "## Preview\n",
    "Here is an example of a set of drawing commands to draw a filled heptagram."
   ]
  },
  {
   "cell_type": "code",
   "execution_count": 3,
   "metadata": {},
   "outputs": [
    {
     "data": {
      "image/png": "[encoded data removed]",
      "text/plain": [
       "<IPython.core.display.Image object>"
      ]
     },
     "metadata": {},
     "output_type": "display_data"
    }
   ],
   "source": [
    "def draw(canvas):\n",
    "    from math import cos, sin\n",
    "    scale = 256.\n",
    "    R = 0.45 * scale\n",
    "    TAU = 6.2831853\n",
    "\n",
    "    path = skia.Path()\n",
    "    path.moveTo(R, 0.)\n",
    "    for i in range(7):\n",
    "        theta = 3 * i * TAU / 7\n",
    "        path.lineTo(R * cos(theta), R * sin(theta))\n",
    "    path.close()\n",
    "\n",
    "    paint = skia.Paint()\n",
    "    paint.setAntiAlias(True)\n",
    "\n",
    "    canvas.clear(0xFFFFFFFF)\n",
    "    canvas.translate(0.5 * scale, 0.5 * scale)\n",
    "    canvas.drawPath(path, paint)\n",
    "    \n",
    "show(draw)"
   ]
  },
  {
   "cell_type": "markdown",
   "metadata": {},
   "source": [
    "## Details\n",
    "\n",
    "`Canvas` is the drawing context for Skia. It knows where to direct the drawing (i.e. where the screen of offscreen pixels are), and maintains a stack of matrices and clips. Note however, that unlike similar contexts in other APIs like postscript, cairo, or awt, Skia does not store any other drawing attributes in the context (e.g. color, pen size). Rather, these are specified explicitly in each draw call, via a `Paint`."
   ]
  },
  {
   "cell_type": "code",
   "execution_count": 4,
   "metadata": {},
   "outputs": [
    {
     "data": {
      "image/png": "[encoded data removed]",
      "text/plain": [
       "<IPython.core.display.Image object>"
      ]
     },
     "metadata": {},
     "output_type": "display_data"
    }
   ],
   "source": [
    "def draw(canvas):\n",
    "    canvas.save()\n",
    "    canvas.translate(128., 128.)\n",
    "    canvas.rotate(45.)\n",
    "    rect = skia.Rect.MakeXYWH(-90.5, -90.5, 181.0, 181.0)\n",
    "    paint = skia.Paint()\n",
    "    paint.setColor(skia.ColorBLUE)\n",
    "    canvas.drawRect(rect, paint)\n",
    "    canvas.restore()\n",
    "    \n",
    "show(draw)"
   ]
  },
  {
   "cell_type": "markdown",
   "metadata": {},
   "source": [
    "The code above will draw a rectangle rotated by 45 degrees. Exactly what color and style the rect will be drawn in is described by the paint, not the canvas.\n",
    "\n",
    "Check out more detailed info on creating a `Canvas` object in [Canvas-Creation.ipynb](Canvas-Creation.ipynb).\n",
    "\n",
    "To begin with, we might want to erase the entire canvas. We can do this by drawing an enormous rectangle, but there are easier ways to do it.\n",
    "\n",
    "```python\n",
    "def draw(canvas):\n",
    "    paint = skia.Paint()\n",
    "    paint.setColor(skia.ColorWHITE)\n",
    "    canvas.drawPaint(paint)\n",
    "```\n",
    "\n",
    "This fills the entire canvas (though respecting the current clip of course) with whatever color or shader (and xfermode) is specified by the paint. If there is a shader in the paint, then it will respect the current matrix on the canvas as well (see `Shader`). If you just want to draw a color (with an optional xfermode), you can just call drawColor(), and save yourself having to allocate a paint.\n",
    "\n",
    "```python\n",
    "def draw(canvas):\n",
    "    canvas.drawColor(skia.ColorWHITE)\n",
    "```\n",
    "\n",
    "All of the other draw APIs are similar, each one ending with a paint parameter."
   ]
  },
  {
   "cell_type": "code",
   "execution_count": 5,
   "metadata": {},
   "outputs": [
    {
     "data": {
      "image/png": "[encoded data removed]",
      "text/plain": [
       "<IPython.core.display.Image object>"
      ]
     },
     "metadata": {},
     "output_type": "display_data"
    }
   ],
   "source": [
    "def draw(canvas):\n",
    "    canvas.drawColor(skia.ColorWHITE)\n",
    "    \n",
    "    paint = skia.Paint()\n",
    "    paint.setStyle(skia.Paint.kStroke)\n",
    "    paint.setStrokeWidth(4)\n",
    "    paint.setColor(skia.ColorRED)\n",
    "    \n",
    "    rect = skia.Rect.MakeXYWH(50, 50, 40, 60)\n",
    "    canvas.drawRect(rect, paint)\n",
    "    \n",
    "    oval = skia.RRect()\n",
    "    oval.setOval(rect)\n",
    "    oval.offset(40, 60)\n",
    "    paint.setColor(skia.ColorBLUE)\n",
    "    canvas.drawRRect(oval, paint)\n",
    "    \n",
    "    paint.setColor(skia.ColorCYAN)\n",
    "    canvas.drawCircle(180, 50, 25, paint)\n",
    "    \n",
    "    rect.offset(80, 0)\n",
    "    paint.setColor(skia.ColorYELLOW)\n",
    "    canvas.drawRoundRect(rect, 10, 10, paint)\n",
    "    \n",
    "    path = skia.Path()\n",
    "    path.cubicTo(768, 0, -512, 256, 256, 256)\n",
    "    paint.setColor(skia.ColorGREEN)\n",
    "    canvas.drawPath(path, paint)\n",
    "    \n",
    "    image = skia.Image.MakeFromEncoded(\n",
    "        skia.Data.MakeFromFileName('../skia/resources/images/color_wheel.png'))\n",
    "    canvas.drawImage(image, 128, 128, paint)\n",
    "\n",
    "    rect2 = skia.Rect.MakeXYWH(0, 0, 40, 60)\n",
    "    canvas.drawImageRect(image, rect2, paint)\n",
    "    \n",
    "    paint2 = skia.Paint()\n",
    "    text = skia.TextBlob.MakeFromString('Hello, Skia!', skia.Font(None, 18))\n",
    "    canvas.drawTextBlob(text, 50, 25, paint2)\n",
    "    \n",
    "show(draw)"
   ]
  },
  {
   "cell_type": "code",
   "execution_count": null,
   "metadata": {},
   "outputs": [],
   "source": []
  }
 ],
 "metadata": {
  "kernelspec": {
   "display_name": "Python 3",
   "language": "python",
   "name": "python3"
  },
  "language_info": {
   "codemirror_mode": {
    "name": "ipython",
    "version": 3
   },
   "file_extension": ".py",
   "mimetype": "text/x-python",
   "name": "python",
   "nbconvert_exporter": "python",
   "pygments_lexer": "ipython3",
   "version": "3.7.6"
  }
 },
 "nbformat": 4,
 "nbformat_minor": 4
}
